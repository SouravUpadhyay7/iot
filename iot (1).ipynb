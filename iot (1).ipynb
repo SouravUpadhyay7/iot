{
 "cells": [
  {
   "cell_type": "code",
   "execution_count": 1,
   "id": "2b99f430-8e4b-441d-a4b5-52b5e1b4933a",
   "metadata": {},
   "outputs": [],
   "source": [
    "import numpy as np\n",
    "import pandas as pd"
   ]
  },
  {
   "cell_type": "code",
   "execution_count": 2,
   "id": "95304224-c734-4c11-9b27-6ee34c62d4c6",
   "metadata": {},
   "outputs": [],
   "source": [
    "import matplotlib.pyplot as plt"
   ]
  },
  {
   "cell_type": "code",
   "execution_count": 4,
   "id": "53c1fe70-951b-48ac-b933-915b0d9493ec",
   "metadata": {},
   "outputs": [],
   "source": [
    "df_iot = pd.read_csv(\"iot_projects_200.csv\")"
   ]
  },
  {
   "cell_type": "code",
   "execution_count": 6,
   "id": "8a24100c-50a7-4a34-91c0-7e08c02d1ec9",
   "metadata": {},
   "outputs": [
    {
     "data": {
      "text/html": [
       "<div>\n",
       "<style scoped>\n",
       "    .dataframe tbody tr th:only-of-type {\n",
       "        vertical-align: middle;\n",
       "    }\n",
       "\n",
       "    .dataframe tbody tr th {\n",
       "        vertical-align: top;\n",
       "    }\n",
       "\n",
       "    .dataframe thead th {\n",
       "        text-align: right;\n",
       "    }\n",
       "</style>\n",
       "<table border=\"1\" class=\"dataframe\">\n",
       "  <thead>\n",
       "    <tr style=\"text-align: right;\">\n",
       "      <th></th>\n",
       "      <th>Project Name</th>\n",
       "      <th>Category</th>\n",
       "      <th>Hardware Used</th>\n",
       "      <th>Difficulty</th>\n",
       "      <th>User Rating</th>\n",
       "      <th>Description</th>\n",
       "    </tr>\n",
       "  </thead>\n",
       "  <tbody>\n",
       "    <tr>\n",
       "      <th>0</th>\n",
       "      <td>IoT Project 1</td>\n",
       "      <td>Environmental</td>\n",
       "      <td>Breadboard, Relays, Arduino, Motors, Sensors</td>\n",
       "      <td>Intermediate</td>\n",
       "      <td>5</td>\n",
       "      <td>A project focusing on tracking energy using Io...</td>\n",
       "    </tr>\n",
       "    <tr>\n",
       "      <th>1</th>\n",
       "      <td>IoT Project 2</td>\n",
       "      <td>Agriculture</td>\n",
       "      <td>Capacitors, Motors, Breadboard, Raspberry Pi, ...</td>\n",
       "      <td>Intermediate</td>\n",
       "      <td>1</td>\n",
       "      <td>A project focusing on tracking home using IoT ...</td>\n",
       "    </tr>\n",
       "    <tr>\n",
       "      <th>2</th>\n",
       "      <td>IoT Project 3</td>\n",
       "      <td>Agriculture</td>\n",
       "      <td>Motors, Arduino, Jumper Wires, Sensors, Breadb...</td>\n",
       "      <td>Advanced</td>\n",
       "      <td>2</td>\n",
       "      <td>A project focusing on monitoring environment u...</td>\n",
       "    </tr>\n",
       "    <tr>\n",
       "      <th>3</th>\n",
       "      <td>IoT Project 4</td>\n",
       "      <td>Agriculture</td>\n",
       "      <td>Breadboard, Power Supply, Motors</td>\n",
       "      <td>Intermediate</td>\n",
       "      <td>4</td>\n",
       "      <td>A project focusing on automating home using Io...</td>\n",
       "    </tr>\n",
       "    <tr>\n",
       "      <th>4</th>\n",
       "      <td>IoT Project 5</td>\n",
       "      <td>Environmental</td>\n",
       "      <td>Resistors, Raspberry Pi, Jumper Wires</td>\n",
       "      <td>Beginner</td>\n",
       "      <td>3</td>\n",
       "      <td>A project focusing on tracking home using IoT ...</td>\n",
       "    </tr>\n",
       "  </tbody>\n",
       "</table>\n",
       "</div>"
      ],
      "text/plain": [
       "    Project Name       Category  \\\n",
       "0  IoT Project 1  Environmental   \n",
       "1  IoT Project 2    Agriculture   \n",
       "2  IoT Project 3    Agriculture   \n",
       "3  IoT Project 4    Agriculture   \n",
       "4  IoT Project 5  Environmental   \n",
       "\n",
       "                                       Hardware Used    Difficulty  \\\n",
       "0       Breadboard, Relays, Arduino, Motors, Sensors  Intermediate   \n",
       "1  Capacitors, Motors, Breadboard, Raspberry Pi, ...  Intermediate   \n",
       "2  Motors, Arduino, Jumper Wires, Sensors, Breadb...      Advanced   \n",
       "3                   Breadboard, Power Supply, Motors  Intermediate   \n",
       "4              Resistors, Raspberry Pi, Jumper Wires      Beginner   \n",
       "\n",
       "   User Rating                                        Description  \n",
       "0            5  A project focusing on tracking energy using Io...  \n",
       "1            1  A project focusing on tracking home using IoT ...  \n",
       "2            2  A project focusing on monitoring environment u...  \n",
       "3            4  A project focusing on automating home using Io...  \n",
       "4            3  A project focusing on tracking home using IoT ...  "
      ]
     },
     "execution_count": 6,
     "metadata": {},
     "output_type": "execute_result"
    }
   ],
   "source": [
    "\n",
    "df_iot = df_iot.dropna(axis=1, how='all')\n",
    "\n",
    "# Display the cleaned DataFrame\n",
    "df_iot.head()\n",
    "\n",
    "\n"
   ]
  },
  {
   "cell_type": "code",
   "execution_count": 7,
   "id": "50958eeb-a136-4d29-a159-b99ff613ad19",
   "metadata": {},
   "outputs": [
    {
     "data": {
      "text/html": [
       "<div>\n",
       "<style scoped>\n",
       "    .dataframe tbody tr th:only-of-type {\n",
       "        vertical-align: middle;\n",
       "    }\n",
       "\n",
       "    .dataframe tbody tr th {\n",
       "        vertical-align: top;\n",
       "    }\n",
       "\n",
       "    .dataframe thead th {\n",
       "        text-align: right;\n",
       "    }\n",
       "</style>\n",
       "<table border=\"1\" class=\"dataframe\">\n",
       "  <thead>\n",
       "    <tr style=\"text-align: right;\">\n",
       "      <th></th>\n",
       "      <th>Project Name</th>\n",
       "      <th>Category</th>\n",
       "      <th>Hardware Used</th>\n",
       "      <th>Difficulty</th>\n",
       "      <th>User Rating</th>\n",
       "      <th>Description</th>\n",
       "    </tr>\n",
       "  </thead>\n",
       "  <tbody>\n",
       "    <tr>\n",
       "      <th>0</th>\n",
       "      <td>IoT Project 1</td>\n",
       "      <td>Environmental</td>\n",
       "      <td>Breadboard, Relays, Arduino, Motors, Sensors</td>\n",
       "      <td>Intermediate</td>\n",
       "      <td>5</td>\n",
       "      <td>A project focusing on tracking energy using Io...</td>\n",
       "    </tr>\n",
       "    <tr>\n",
       "      <th>1</th>\n",
       "      <td>IoT Project 2</td>\n",
       "      <td>Agriculture</td>\n",
       "      <td>Capacitors, Motors, Breadboard, Raspberry Pi, ...</td>\n",
       "      <td>Intermediate</td>\n",
       "      <td>1</td>\n",
       "      <td>A project focusing on tracking home using IoT ...</td>\n",
       "    </tr>\n",
       "    <tr>\n",
       "      <th>2</th>\n",
       "      <td>IoT Project 3</td>\n",
       "      <td>Agriculture</td>\n",
       "      <td>Motors, Arduino, Jumper Wires, Sensors, Breadb...</td>\n",
       "      <td>Advanced</td>\n",
       "      <td>2</td>\n",
       "      <td>A project focusing on monitoring environment u...</td>\n",
       "    </tr>\n",
       "    <tr>\n",
       "      <th>3</th>\n",
       "      <td>IoT Project 4</td>\n",
       "      <td>Agriculture</td>\n",
       "      <td>Breadboard, Power Supply, Motors</td>\n",
       "      <td>Intermediate</td>\n",
       "      <td>4</td>\n",
       "      <td>A project focusing on automating home using Io...</td>\n",
       "    </tr>\n",
       "    <tr>\n",
       "      <th>4</th>\n",
       "      <td>IoT Project 5</td>\n",
       "      <td>Environmental</td>\n",
       "      <td>Resistors, Raspberry Pi, Jumper Wires</td>\n",
       "      <td>Beginner</td>\n",
       "      <td>3</td>\n",
       "      <td>A project focusing on tracking home using IoT ...</td>\n",
       "    </tr>\n",
       "  </tbody>\n",
       "</table>\n",
       "</div>"
      ],
      "text/plain": [
       "    Project Name       Category  \\\n",
       "0  IoT Project 1  Environmental   \n",
       "1  IoT Project 2    Agriculture   \n",
       "2  IoT Project 3    Agriculture   \n",
       "3  IoT Project 4    Agriculture   \n",
       "4  IoT Project 5  Environmental   \n",
       "\n",
       "                                       Hardware Used    Difficulty  \\\n",
       "0       Breadboard, Relays, Arduino, Motors, Sensors  Intermediate   \n",
       "1  Capacitors, Motors, Breadboard, Raspberry Pi, ...  Intermediate   \n",
       "2  Motors, Arduino, Jumper Wires, Sensors, Breadb...      Advanced   \n",
       "3                   Breadboard, Power Supply, Motors  Intermediate   \n",
       "4              Resistors, Raspberry Pi, Jumper Wires      Beginner   \n",
       "\n",
       "   User Rating                                        Description  \n",
       "0            5  A project focusing on tracking energy using Io...  \n",
       "1            1  A project focusing on tracking home using IoT ...  \n",
       "2            2  A project focusing on monitoring environment u...  \n",
       "3            4  A project focusing on automating home using Io...  \n",
       "4            3  A project focusing on tracking home using IoT ...  "
      ]
     },
     "execution_count": 7,
     "metadata": {},
     "output_type": "execute_result"
    }
   ],
   "source": [
    "df_iot.head()"
   ]
  },
  {
   "cell_type": "code",
   "execution_count": 24,
   "id": "6a321c2a-1a24-4255-9117-6c98b4d2127f",
   "metadata": {},
   "outputs": [
    {
     "data": {
      "text/html": [
       "<div>\n",
       "<style scoped>\n",
       "    .dataframe tbody tr th:only-of-type {\n",
       "        vertical-align: middle;\n",
       "    }\n",
       "\n",
       "    .dataframe tbody tr th {\n",
       "        vertical-align: top;\n",
       "    }\n",
       "\n",
       "    .dataframe thead th {\n",
       "        text-align: right;\n",
       "    }\n",
       "</style>\n",
       "<table border=\"1\" class=\"dataframe\">\n",
       "  <thead>\n",
       "    <tr style=\"text-align: right;\">\n",
       "      <th></th>\n",
       "      <th>Project Name</th>\n",
       "      <th>Category</th>\n",
       "      <th>Hardware Used</th>\n",
       "      <th>Difficulty</th>\n",
       "      <th>User Rating</th>\n",
       "      <th>Description</th>\n",
       "    </tr>\n",
       "  </thead>\n",
       "  <tbody>\n",
       "    <tr>\n",
       "      <th>0</th>\n",
       "      <td>IoT Project 1</td>\n",
       "      <td>Environmental</td>\n",
       "      <td>Breadboard, Relays, Arduino, Motors, Sensors</td>\n",
       "      <td>Intermediate</td>\n",
       "      <td>5</td>\n",
       "      <td>A project focusing on tracking energy using Io...</td>\n",
       "    </tr>\n",
       "    <tr>\n",
       "      <th>1</th>\n",
       "      <td>IoT Project 2</td>\n",
       "      <td>Agriculture</td>\n",
       "      <td>Capacitors, Motors, Breadboard, Raspberry Pi, ...</td>\n",
       "      <td>Intermediate</td>\n",
       "      <td>1</td>\n",
       "      <td>A project focusing on tracking home using IoT ...</td>\n",
       "    </tr>\n",
       "    <tr>\n",
       "      <th>2</th>\n",
       "      <td>IoT Project 3</td>\n",
       "      <td>Agriculture</td>\n",
       "      <td>Motors, Arduino, Jumper Wires, Sensors, Breadb...</td>\n",
       "      <td>Advanced</td>\n",
       "      <td>2</td>\n",
       "      <td>A project focusing on monitoring environment u...</td>\n",
       "    </tr>\n",
       "    <tr>\n",
       "      <th>3</th>\n",
       "      <td>IoT Project 4</td>\n",
       "      <td>Agriculture</td>\n",
       "      <td>Breadboard, Power Supply, Motors</td>\n",
       "      <td>Intermediate</td>\n",
       "      <td>4</td>\n",
       "      <td>A project focusing on automating home using Io...</td>\n",
       "    </tr>\n",
       "    <tr>\n",
       "      <th>4</th>\n",
       "      <td>IoT Project 5</td>\n",
       "      <td>Environmental</td>\n",
       "      <td>Resistors, Raspberry Pi, Jumper Wires</td>\n",
       "      <td>Beginner</td>\n",
       "      <td>3</td>\n",
       "      <td>A project focusing on tracking home using IoT ...</td>\n",
       "    </tr>\n",
       "    <tr>\n",
       "      <th>...</th>\n",
       "      <td>...</td>\n",
       "      <td>...</td>\n",
       "      <td>...</td>\n",
       "      <td>...</td>\n",
       "      <td>...</td>\n",
       "      <td>...</td>\n",
       "    </tr>\n",
       "    <tr>\n",
       "      <th>195</th>\n",
       "      <td>IoT Project 196</td>\n",
       "      <td>Agriculture</td>\n",
       "      <td>Raspberry Pi, ESP8266, Motors, LEDs</td>\n",
       "      <td>Advanced</td>\n",
       "      <td>2</td>\n",
       "      <td>A project focusing on controlling home using I...</td>\n",
       "    </tr>\n",
       "    <tr>\n",
       "      <th>196</th>\n",
       "      <td>IoT Project 197</td>\n",
       "      <td>Environmental</td>\n",
       "      <td>Raspberry Pi, Sensors, Relays</td>\n",
       "      <td>Intermediate</td>\n",
       "      <td>3</td>\n",
       "      <td>A project focusing on automating environment u...</td>\n",
       "    </tr>\n",
       "    <tr>\n",
       "      <th>197</th>\n",
       "      <td>IoT Project 198</td>\n",
       "      <td>Environmental</td>\n",
       "      <td>Capacitors, Breadboard, Power Supply</td>\n",
       "      <td>Advanced</td>\n",
       "      <td>2</td>\n",
       "      <td>A project focusing on automating environment u...</td>\n",
       "    </tr>\n",
       "    <tr>\n",
       "      <th>198</th>\n",
       "      <td>IoT Project 199</td>\n",
       "      <td>Energy Management</td>\n",
       "      <td>Sensors, Relays, Raspberry Pi, Capacitors, Pow...</td>\n",
       "      <td>Advanced</td>\n",
       "      <td>5</td>\n",
       "      <td>A project focusing on automating environment u...</td>\n",
       "    </tr>\n",
       "    <tr>\n",
       "      <th>199</th>\n",
       "      <td>IoT Project 200</td>\n",
       "      <td>Energy Management</td>\n",
       "      <td>Resistors, ESP8266, Motors, LEDs, Sensors</td>\n",
       "      <td>Beginner</td>\n",
       "      <td>1</td>\n",
       "      <td>A project focusing on automating energy using ...</td>\n",
       "    </tr>\n",
       "  </tbody>\n",
       "</table>\n",
       "<p>200 rows × 6 columns</p>\n",
       "</div>"
      ],
      "text/plain": [
       "        Project Name           Category  \\\n",
       "0      IoT Project 1      Environmental   \n",
       "1      IoT Project 2        Agriculture   \n",
       "2      IoT Project 3        Agriculture   \n",
       "3      IoT Project 4        Agriculture   \n",
       "4      IoT Project 5      Environmental   \n",
       "..               ...                ...   \n",
       "195  IoT Project 196        Agriculture   \n",
       "196  IoT Project 197      Environmental   \n",
       "197  IoT Project 198      Environmental   \n",
       "198  IoT Project 199  Energy Management   \n",
       "199  IoT Project 200  Energy Management   \n",
       "\n",
       "                                         Hardware Used    Difficulty  \\\n",
       "0         Breadboard, Relays, Arduino, Motors, Sensors  Intermediate   \n",
       "1    Capacitors, Motors, Breadboard, Raspberry Pi, ...  Intermediate   \n",
       "2    Motors, Arduino, Jumper Wires, Sensors, Breadb...      Advanced   \n",
       "3                     Breadboard, Power Supply, Motors  Intermediate   \n",
       "4                Resistors, Raspberry Pi, Jumper Wires      Beginner   \n",
       "..                                                 ...           ...   \n",
       "195                Raspberry Pi, ESP8266, Motors, LEDs      Advanced   \n",
       "196                      Raspberry Pi, Sensors, Relays  Intermediate   \n",
       "197               Capacitors, Breadboard, Power Supply      Advanced   \n",
       "198  Sensors, Relays, Raspberry Pi, Capacitors, Pow...      Advanced   \n",
       "199          Resistors, ESP8266, Motors, LEDs, Sensors      Beginner   \n",
       "\n",
       "     User Rating                                        Description  \n",
       "0              5  A project focusing on tracking energy using Io...  \n",
       "1              1  A project focusing on tracking home using IoT ...  \n",
       "2              2  A project focusing on monitoring environment u...  \n",
       "3              4  A project focusing on automating home using Io...  \n",
       "4              3  A project focusing on tracking home using IoT ...  \n",
       "..           ...                                                ...  \n",
       "195            2  A project focusing on controlling home using I...  \n",
       "196            3  A project focusing on automating environment u...  \n",
       "197            2  A project focusing on automating environment u...  \n",
       "198            5  A project focusing on automating environment u...  \n",
       "199            1  A project focusing on automating energy using ...  \n",
       "\n",
       "[200 rows x 6 columns]"
      ]
     },
     "execution_count": 24,
     "metadata": {},
     "output_type": "execute_result"
    }
   ],
   "source": [
    "df_iot"
   ]
  },
  {
   "cell_type": "code",
   "execution_count": 10,
   "id": "3d259d0c-16a4-4474-9b27-5ba7df826bc2",
   "metadata": {},
   "outputs": [
    {
     "data": {
      "image/png": "[encoded data removed]",
      "text/plain": [
       "<Figure size 640x480 with 1 Axes>"
      ]
     },
     "metadata": {},
     "output_type": "display_data"
    }
   ],
   "source": [
    "plt.plot([1,2,3,4],[1,4,8,9])\n",
    "plt.axis((0,6,0,10))\n",
    "plt.show()"
   ]
  },
  {
   "cell_type": "code",
   "execution_count": 11,
   "id": "28778fe6-d24d-4c23-9ea2-2bc3ddd2ce90",
   "metadata": {},
   "outputs": [
    {
     "data": {
      "image/png": "[encoded data removed]",
      "text/plain": [
       "<Figure size 640x480 with 1 Axes>"
      ]
     },
     "metadata": {},
     "output_type": "display_data"
    }
   ],
   "source": [
    "x=[0,1,2,3]\n",
    "y=[0,1,4,9]\n",
    "plt.xlabel(\"X axis \")\n",
    "plt.ylabel(\"Y axis \")\n",
    "plt.title(\" Plot of x vs y\")\n",
    "plt.plot(x,y)\n",
    "plt.grid(\"true\")\n",
    "plt.show()"
   ]
  },
  {
   "cell_type": "code",
   "execution_count": 13,
   "id": "0709a165-6ea2-457a-ad95-5fe7f4b48d76",
   "metadata": {},
   "outputs": [
    {
     "data": {
      "text/plain": [
       "[<matplotlib.lines.Line2D at 0x193d9400c20>]"
      ]
     },
     "execution_count": 13,
     "metadata": {},
     "output_type": "execute_result"
    },
    {
     "data": {
      "image/png": "[encoded data removed]",
      "text/plain": [
       "<Figure size 640x480 with 1 Axes>"
      ]
     },
     "metadata": {},
     "output_type": "display_data"
    }
   ],
   "source": [
    "plt.plot(x,y,'r*-')"
   ]
  },
  {
   "cell_type": "code",
   "execution_count": 16,
   "id": "765dd1aa-f6d9-42d5-9ebf-0c8c4c3c9f59",
   "metadata": {},
   "outputs": [
    {
     "data": {
      "text/plain": [
       "[<matplotlib.lines.Line2D at 0x193d93e6090>,\n",
       " <matplotlib.lines.Line2D at 0x193d947c3b0>,\n",
       " <matplotlib.lines.Line2D at 0x193d947fe30>]"
      ]
     },
     "execution_count": 16,
     "metadata": {},
     "output_type": "execute_result"
    },
    {
     "data": {
      "image/png": "[encoded data removed]",
      "text/plain": [
       "<Figure size 640x480 with 1 Axes>"
      ]
     },
     "metadata": {},
     "output_type": "display_data"
    }
   ],
   "source": [
    "t=np.arange(0,5,0.2)\n",
    "plt.plot(t, t, 'r--', t, t**2, 'bs', t, t**3, 'g^')"
   ]
  },
  {
   "cell_type": "code",
   "execution_count": 18,
   "id": "b1fc5dff-d751-4281-9ada-71ba152e1478",
   "metadata": {},
   "outputs": [],
   "source": [
    "# curve-fit() function imported from scipy\n",
    "from scipy.optimize import curve_fit"
   ]
  },
  {
   "cell_type": "code",
   "execution_count": 19,
   "id": "e8ece896-c4cc-48c7-95e3-4c0cbb5b06ea",
   "metadata": {},
   "outputs": [],
   "source": [
    "from matplotlib import pyplot as plt\n",
    "\n",
    "# numpy.linspace with the given arguments\n",
    "# produce an array of 40 numbers between 0\n",
    "# and 10, both inclusive\n",
    "x = np.linspace(0, 10, num = 40)\n",
    "\n"
   ]
  },
  {
   "cell_type": "code",
   "execution_count": 20,
   "id": "75cd15cf-14b0-4c97-85d8-fee4b9046646",
   "metadata": {},
   "outputs": [],
   "source": [
    "# y is another array which stores 3.45 times\n",
    "# the sine of (values in x) * 1.334. \n",
    "# The random.normal() draws random sample \n",
    "# from normal (Gaussian) distribution to make\n",
    "# them scatter across the base line\n",
    "y = 3.45 * np.sin(1.334 * x) + np.random.normal(size = 40)\n",
    "\n",
    "# Test function with coefficients as parameters\n",
    "def test(x, a, b):\n",
    "\treturn a * np.sin(b * x)\n",
    "\n",
    "# curve_fit() function takes the test-function\n",
    "# x-data and y-data as argument and returns \n",
    "# the coefficients a and b in param and\n",
    "# the estimated covariance of param in param_cov\n",
    "param, param_cov = curve_fit(test, x, y)\n"
   ]
  },
  {
   "cell_type": "code",
   "execution_count": 21,
   "id": "2506c5f0-50dd-408f-a23a-09fe2f2bbda6",
   "metadata": {},
   "outputs": [
    {
     "name": "stdout",
     "output_type": "stream",
     "text": [
      "Sine function coefficients:\n",
      "[3.71895839 1.33815908]\n",
      "Covariance of coefficients:\n",
      "[[ 4.16062259e-02 -4.81108609e-05]\n",
      " [-4.81108609e-05  7.71919973e-05]]\n"
     ]
    },
    {
     "data": {
      "image/png": "[encoded data removed]",
      "text/plain": [
       "<Figure size 640x480 with 1 Axes>"
      ]
     },
     "metadata": {},
     "output_type": "display_data"
    }
   ],
   "source": [
    "print(\"Sine function coefficients:\")\n",
    "print(param)\n",
    "print(\"Covariance of coefficients:\")\n",
    "print(param_cov)\n",
    "\n",
    "# ans stores the new y-data according to \n",
    "# the coefficients given by curve-fit() function\n",
    "ans = (param[0]*(np.sin(param[1]*x)))\n",
    "\n",
    "'''Below 4 lines can be un-commented for plotting results \n",
    "using matplotlib as shown in the first example. '''\n",
    "plt.plot(x, y, 'o', color ='red', label =\"data\")\n",
    "plt.plot(x, ans, '--', color ='blue', label =\"optimized data\")\n",
    "plt.legend()\n",
    "plt.show()"
   ]
  },
  {
   "cell_type": "code",
   "execution_count": 22,
   "id": "6ea0ab57-ebe1-49d9-b81e-f3ee2616a88e",
   "metadata": {},
   "outputs": [
    {
     "name": "stdout",
     "output_type": "stream",
     "text": [
      "<class 'pandas.core.frame.DataFrame'>\n",
      "RangeIndex: 200 entries, 0 to 199\n",
      "Data columns (total 6 columns):\n",
      " #   Column         Non-Null Count  Dtype \n",
      "---  ------         --------------  ----- \n",
      " 0   Project Name   200 non-null    object\n",
      " 1   Category       200 non-null    object\n",
      " 2   Hardware Used  200 non-null    object\n",
      " 3   Difficulty     200 non-null    object\n",
      " 4   User Rating    200 non-null    int64 \n",
      " 5   Description    200 non-null    object\n",
      "dtypes: int64(1), object(5)\n",
      "memory usage: 9.5+ KB\n"
     ]
    }
   ],
   "source": [
    "df_iot.info()"
   ]
  },
  {
   "cell_type": "code",
   "execution_count": null,
   "id": "90c967e3-e1ec-46ac-82c0-dc33078a1e5f",
   "metadata": {},
   "outputs": [],
   "source": []
  }
 ],
 "metadata": {
  "kernelspec": {
   "display_name": "Python 3 (ipykernel)",
   "language": "python",
   "name": "python3"
  },
  "language_info": {
   "codemirror_mode": {
    "name": "ipython",
    "version": 3
   },
   "file_extension": ".py",
   "mimetype": "text/x-python",
   "name": "python",
   "nbconvert_exporter": "python",
   "pygments_lexer": "ipython3",
   "version": "3.12.4"
  }
 },
 "nbformat": 4,
 "nbformat_minor": 5
}
